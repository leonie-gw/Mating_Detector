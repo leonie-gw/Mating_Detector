{
 "cells": [
  {
   "cell_type": "markdown",
   "metadata": {},
   "source": [
    "# Predict and Visualize - Notebook"
   ]
  },
  {
   "cell_type": "code",
   "execution_count": null,
   "metadata": {},
   "outputs": [],
   "source": [
    "%cd /home/ganswindt/FasterRCNN_Mating_Detector/\n",
    "from train import * \n",
    "\n",
    "from skimage.io import imread\n",
    "import numpy as np\n",
    "\n",
    "from skimage.transform import resize\n",
    "from skimage.io import imread\n",
    "\n",
    "from matplotlib import pyplot as plt\n",
    "from matplotlib.patches import Rectangle\n",
    "%matplotlib inline"
   ]
  },
  {
   "cell_type": "markdown",
   "metadata": {},
   "source": [
    "## Parameters"
   ]
  },
  {
   "cell_type": "code",
   "execution_count": null,
   "metadata": {
    "scrolled": true
   },
   "outputs": [],
   "source": [
    "# Filepath to the pre-trained model weights\n",
    "model_path = '/scratch/ganswindt/COCO/Yeasts_mating/train_log_1906/model-2420000'\n",
    "\n",
    "# Filepath to the image, which should be predicted\n",
    "img_path = '/scratch/ganswindt/mating_cells/COCO/DIR/val/DIC_BF_high_light_series30.tif'"
   ]
  },
  {
   "cell_type": "markdown",
   "metadata": {},
   "source": [
    "## Prediction"
   ]
  },
  {
   "cell_type": "code",
   "execution_count": null,
   "metadata": {},
   "outputs": [],
   "source": [
    "b = BboxPredictor(model_path)\n",
    "\n",
    "res = do_predict(b.pred_func, img_path)\n",
    "\n",
    "res"
   ]
  },
  {
   "cell_type": "markdown",
   "metadata": {},
   "source": [
    "## Visualize Prediction\n",
    "\n",
    "Seperated in classes"
   ]
  },
  {
   "cell_type": "code",
   "execution_count": null,
   "metadata": {
    "scrolled": false
   },
   "outputs": [],
   "source": [
    "img = imread(img_path)\n",
    "\n",
    "im = img\n",
    "\n",
    "im = np.expand_dims(im, axis=2)\n",
    "im = np.repeat(im, 3, axis=2)\n",
    "\n",
    "results = predict_image(im, b.pred_func)\n",
    "\n",
    "tmp = []\n",
    "tmp2 = []\n",
    "tmp3 = []\n",
    "\n",
    "for item in results:\n",
    "    if item.class_id == 1:\n",
    "        tmp.append(item)\n",
    "        #print(item)\n",
    "        \n",
    "    if item.class_id == 2:\n",
    "        tmp2.append(item)\n",
    "        #print(item)\n",
    "    \n",
    "    if item.class_id == 3:\n",
    "        tmp3.append(item)\n",
    "        #print(item)\n",
    "        \n",
    "print(len(tmp))\n",
    "print(len(tmp2))\n",
    "print(len(tmp3))\n",
    "\n",
    "print(\"Class 1: \")\n",
    "boxes = np.asarray([r.box for r in tmp])\n",
    "\n",
    "plt.rcParams['figure.figsize'] = [15, 15]\n",
    "plt.imshow(img, cmap='gray')\n",
    "for bbox in boxes:\n",
    "    r = Rectangle((bbox[0], bbox[1]), bbox[2]-bbox[0], bbox[3]-bbox[1], fill=None, color='y', linewidth=3)\n",
    "    plt.gca().add_artist(r)\n",
    "plt.show()\n",
    "\n",
    "print(\"Class 2: \")\n",
    "boxes2 = np.asarray([r.box for r in tmp2])\n",
    "\n",
    "plt.rcParams['figure.figsize'] = [15, 15]\n",
    "plt.imshow(img, cmap='gray')\n",
    "for bbox in boxes2:\n",
    "    r = Rectangle((bbox[0], bbox[1]), bbox[2]-bbox[0], bbox[3]-bbox[1], fill=None)\n",
    "    plt.gca().add_artist(r)\n",
    "plt.show()\n",
    "\n",
    "print(\"Class 3: \")\n",
    "boxes3 = np.asarray([r.box for r in tmp3])\n",
    "\n",
    "plt.rcParams['figure.figsize'] = [15, 15]\n",
    "plt.imshow(img, cmap='gray')\n",
    "for bbox in boxes3:\n",
    "    r = Rectangle((bbox[0], bbox[1]), bbox[2]-bbox[0], bbox[3]-bbox[1], fill=None)\n",
    "    plt.gca().add_artist(r)\n",
    "plt.show()"
   ]
  },
  {
   "cell_type": "code",
   "execution_count": null,
   "metadata": {},
   "outputs": [],
   "source": []
  }
 ],
 "metadata": {
  "kernelspec": {
   "display_name": "Python 3",
   "language": "python",
   "name": "python3"
  },
  "language_info": {
   "codemirror_mode": {
    "name": "ipython",
    "version": 3
   },
   "file_extension": ".py",
   "mimetype": "text/x-python",
   "name": "python",
   "nbconvert_exporter": "python",
   "pygments_lexer": "ipython3",
   "version": "3.6.8"
  }
 },
 "nbformat": 4,
 "nbformat_minor": 2
}
